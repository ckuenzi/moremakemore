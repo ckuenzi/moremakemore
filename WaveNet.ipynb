{
 "cells": [
  {
   "cell_type": "code",
   "execution_count": 36,
   "id": "f36a8662",
   "metadata": {},
   "outputs": [],
   "source": [
    "import torch\n",
    "import torch.nn.functional as F\n",
    "from torch.utils.data import Dataset, DataLoader\n",
    "import torch.nn as nn\n",
    "import numpy as np\n",
    "import matplotlib.pyplot as plt\n",
    "from sklearn.model_selection import train_test_split\n",
    "from matplotlib import cm, colors\n"
   ]
  },
  {
   "cell_type": "code",
   "execution_count": 2,
   "id": "7afa6099",
   "metadata": {},
   "outputs": [
    {
     "data": {
      "text/plain": [
       "{'.': 0,\n",
       " 'a': 1,\n",
       " 'b': 2,\n",
       " 'c': 3,\n",
       " 'd': 4,\n",
       " 'e': 5,\n",
       " 'f': 6,\n",
       " 'g': 7,\n",
       " 'h': 8,\n",
       " 'i': 9,\n",
       " 'j': 10,\n",
       " 'k': 11,\n",
       " 'l': 12,\n",
       " 'm': 13,\n",
       " 'n': 14,\n",
       " 'o': 15,\n",
       " 'p': 16,\n",
       " 'q': 17,\n",
       " 'r': 18,\n",
       " 's': 19,\n",
       " 't': 20,\n",
       " 'u': 21,\n",
       " 'v': 22,\n",
       " 'w': 23,\n",
       " 'x': 24,\n",
       " 'y': 25,\n",
       " 'z': 26}"
      ]
     },
     "execution_count": 2,
     "metadata": {},
     "output_type": "execute_result"
    }
   ],
   "source": [
    "words = open('names.txt').read().splitlines()\n",
    "\n",
    "# Get mapping between characters and numbers\n",
    "chars = sorted(list(set(''.join(words) + '.')))\n",
    "stoi = dict(list(zip(chars, range(len(chars)))))\n",
    "itos = {v:k for k,v in stoi.items()}\n",
    "stoi"
   ]
  },
  {
   "cell_type": "code",
   "execution_count": 16,
   "id": "9adf34ca",
   "metadata": {},
   "outputs": [
    {
     "data": {
      "text/plain": [
       "2852"
      ]
     },
     "execution_count": 16,
     "metadata": {},
     "output_type": "execute_result"
    }
   ],
   "source": [
    "# Generate datasets\n",
    "\n",
    "BLOCK_SIZE = 8\n",
    "\n",
    "class WordDataset(Dataset):\n",
    "    def __init__(self, X, y):\n",
    "        self.X = X\n",
    "        self.y = y\n",
    "        \n",
    "    def __len__(self):\n",
    "        return len(self.y)\n",
    "    \n",
    "    def __getitem__(self, idx):\n",
    "        return self.X[idx], self.y[idx]\n",
    "    \n",
    "\n",
    "def generate_dataset(words):\n",
    "    X = []\n",
    "    y = []\n",
    "\n",
    "    for word in words:\n",
    "        block = [0] * BLOCK_SIZE\n",
    "        for c in word + '.':\n",
    "            X.append(block)\n",
    "            y.append(stoi[c])\n",
    "            block = block[1:] + [stoi[c]]\n",
    "    X = torch.tensor(X)\n",
    "    y = torch.tensor(y)\n",
    "    return X, y\n",
    "    \n",
    "X_all, y_all = generate_dataset(words)\n",
    "\n",
    "X_train, X_test, y_train, y_test = train_test_split(X_all, y_all, test_size=0.2, random_state=1337)\n",
    "\n",
    "train_dataset = WordDataset(X_train, y_train)\n",
    "test_dataset = WordDataset(X_test, y_test)\n",
    "\n",
    "train_loader = DataLoader(train_dataset, batch_size=64, shuffle=True)\n",
    "test_loader = DataLoader(test_dataset, batch_size=64, shuffle=False)\n",
    "\n",
    "len(train_loader)"
   ]
  },
  {
   "cell_type": "code",
   "execution_count": 4,
   "id": "45b36c71",
   "metadata": {},
   "outputs": [],
   "source": [
    "# Init old network\n",
    "\n",
    "N_EMBEDDINGS = 10\n",
    "HIDDEN_NEURONS = 200\n",
    "C = torch.randn((27, N_EMBEDDINGS), requires_grad=True)\n",
    "W1 = torch.randn((N_EMBEDDINGS * BLOCK_SIZE, HIDDEN_NEURONS), requires_grad=True)\n",
    "b1 = torch.randn(HIDDEN_NEURONS, requires_grad=True)\n",
    "W2 = torch.randn((HIDDEN_NEURONS, 27), requires_grad=True)\n",
    "b2 = torch.randn(27, requires_grad=True)\n",
    "\n",
    "parameters = [C, W1, b1, W2, b2]\n",
    "\n",
    "def forward(X):\n",
    "    embeddings = C[X]\n",
    "    x = embeddings.view(-1, N_EMBEDDINGS * BLOCK_SIZE)\n",
    "    x = x @ W1 + b1\n",
    "    x = torch.tanh(x)\n",
    "    x = x @ W2 + b2\n",
    "    return x"
   ]
  },
  {
   "cell_type": "code",
   "execution_count": 5,
   "id": "8718bfc7",
   "metadata": {},
   "outputs": [
    {
     "data": {
      "text/plain": [
       "22297"
      ]
     },
     "execution_count": 5,
     "metadata": {},
     "output_type": "execute_result"
    }
   ],
   "source": [
    "# Init torched network\n",
    "class MLP(nn.Module):\n",
    "    def __init__(self, n_embeddings=10, hidden_neurons=200):\n",
    "        super(MLP, self).__init__()\n",
    "        self.n_embeddings = n_embeddings\n",
    "        \n",
    "        self.embedding = nn.Embedding(27, n_embeddings)\n",
    "        ##self.c = torch.randn((27, n_embeddings), requires_grad=True)\n",
    "        self.fc1 = nn.Linear(n_embeddings * BLOCK_SIZE, hidden_neurons)\n",
    "        self.fc2 = nn.Linear(hidden_neurons, 27)\n",
    "        \n",
    "        self.bn = nn.BatchNorm1d(hidden_neurons)\n",
    "        \n",
    "    def forward(self, x):\n",
    "        x = self.embedding(x)\n",
    "        x = x.view(-1, self.n_embeddings * BLOCK_SIZE)\n",
    "        x = self.fc1(x)\n",
    "        x = self.bn(x)\n",
    "        x = torch.tanh(x)\n",
    "        x = self.fc2(x)\n",
    "        return x\n",
    "    \n",
    "    def num_params(self):\n",
    "        return sum(p.numel() for p in self.parameters() if p.requires_grad)\n",
    "    \n",
    "model = MLP(n_embeddings=10, hidden_neurons=200)\n",
    "model.num_params()"
   ]
  },
  {
   "cell_type": "code",
   "execution_count": 18,
   "id": "361a5ec5",
   "metadata": {},
   "outputs": [
    {
     "data": {
      "text/plain": [
       "175767"
      ]
     },
     "execution_count": 18,
     "metadata": {},
     "output_type": "execute_result"
    }
   ],
   "source": [
    "class WaveNet(nn.Module):\n",
    "    def __init__(self, n_embeddings=10, hidden_neurons=200):\n",
    "        super(WaveNet, self).__init__()\n",
    "        self.n_embeddings = n_embeddings\n",
    "        self.hidden_neurons = hidden_neurons\n",
    "        \n",
    "        self.embedding = nn.Embedding(27, n_embeddings)\n",
    "        self.fc1 = nn.Linear(n_embeddings * 2, hidden_neurons)\n",
    "        self.bn1 = nn.BatchNorm1d(hidden_neurons)\n",
    "        \n",
    "        self.fc2 = nn.Linear(hidden_neurons * 2, hidden_neurons)\n",
    "        self.bn2 = nn.BatchNorm1d(hidden_neurons)\n",
    "        \n",
    "        self.fc3 = nn.Linear(hidden_neurons * 2, hidden_neurons)\n",
    "        self.bn3 = nn.BatchNorm1d(hidden_neurons)\n",
    "        \n",
    "        self.fc4 = nn.Linear(hidden_neurons, 27)\n",
    "        \n",
    "        \n",
    "        \n",
    "    def forward(self, x):\n",
    "        x = self.embedding(x)\n",
    "        \n",
    "        x = x.view(-1, 4, self.n_embeddings * 2)\n",
    "        self.tmp = x\n",
    "        x = self.fc1(x)\n",
    "        x = x.swapaxes(1,2)\n",
    "        x = self.bn1(x)\n",
    "        x = x.swapaxes(1,2)\n",
    "        x = torch.tanh(x)\n",
    "        \n",
    "        x = x.reshape(-1, 2, self.hidden_neurons * 2)\n",
    "        x = self.fc2(x)\n",
    "        x = x.swapaxes(1,2)\n",
    "        x = self.bn2(x)\n",
    "        x = x.swapaxes(1,2)\n",
    "        x = torch.tanh(x)\n",
    "        \n",
    "        x = x.reshape(-1, self.hidden_neurons * 2)\n",
    "        x = self.fc3(x)\n",
    "        x = self.bn3(x)\n",
    "        x = torch.tanh(x)\n",
    "        \n",
    "        x = self.fc4(x)\n",
    "       \n",
    "        return x\n",
    "    \n",
    "    def num_params(self):\n",
    "        return sum(p.numel() for p in self.parameters() if p.requires_grad)\n",
    "    \n",
    "model = WaveNet(n_embeddings = 20, hidden_neurons=200)\n",
    "model.num_params()\n"
   ]
  },
  {
   "cell_type": "code",
   "execution_count": null,
   "id": "d2a24436",
   "metadata": {},
   "outputs": [],
   "source": []
  },
  {
   "cell_type": "code",
   "execution_count": 22,
   "id": "9f44ad3a",
   "metadata": {},
   "outputs": [],
   "source": [
    "optimizer = torch.optim.Adam(model.parameters(), lr=0.01, weight_decay=0.0001)\n",
    "lossi = []"
   ]
  },
  {
   "cell_type": "code",
   "execution_count": 42,
   "id": "3a560af0",
   "metadata": {},
   "outputs": [
    {
     "name": "stdout",
     "output_type": "stream",
     "text": [
      "epoch=0 total_loss=2.1775547859127022\n",
      "epoch=1 total_loss=2.176869030169317\n",
      "epoch=2 total_loss=2.177544898480219\n",
      "epoch=3 total_loss=2.1755490324774764\n",
      "epoch=4 total_loss=2.1760448545510105\n",
      "epoch=5 total_loss=2.17736095085552\n",
      "epoch=6 total_loss=2.1770204799288955\n",
      "epoch=7 total_loss=2.176344539432004\n",
      "epoch=8 total_loss=2.176648127205074\n",
      "epoch=9 total_loss=2.1769104978647005\n"
     ]
    }
   ],
   "source": [
    "# Training\n",
    "model.train()\n",
    "for epoch in range(10):\n",
    "    print(f'{epoch=}', end=' ')\n",
    "    total_loss = 0\n",
    "    for X, y in train_loader:\n",
    "        pred = model(X)\n",
    "        loss = F.cross_entropy(pred, y)\n",
    "        total_loss += loss.item()\n",
    "\n",
    "        model.zero_grad()\n",
    "        loss.backward()\n",
    "        \n",
    "        optimizer.step()\n",
    "\n",
    "    total_loss /= len(train_loader)\n",
    "    lossi.append(total_loss)\n",
    "    print(f'{total_loss=}')"
   ]
  },
  {
   "cell_type": "code",
   "execution_count": 43,
   "id": "e84f12bd",
   "metadata": {},
   "outputs": [
    {
     "data": {
      "text/plain": [
       "[<matplotlib.lines.Line2D at 0x7fe79931aa00>]"
      ]
     },
     "execution_count": 43,
     "metadata": {},
     "output_type": "execute_result"
    },
    {
     "data": {
      "image/png": "[encoded data removed]",
      "text/plain": [
       "<Figure size 640x480 with 1 Axes>"
      ]
     },
     "metadata": {},
     "output_type": "display_data"
    }
   ],
   "source": [
    "plt.plot(lossi)"
   ]
  },
  {
   "cell_type": "code",
   "execution_count": 41,
   "id": "ecd27173",
   "metadata": {},
   "outputs": [],
   "source": [
    "optimizer.lr = 0.00001\n",
    "optimizer.weight_decay=0.0001"
   ]
  },
  {
   "cell_type": "code",
   "execution_count": 44,
   "id": "271866a9",
   "metadata": {},
   "outputs": [
    {
     "name": "stdout",
     "output_type": "stream",
     "text": [
      "test_loss=2.1981185169741617\n"
     ]
    }
   ],
   "source": [
    "model.eval()\n",
    "test_loss = 0\n",
    "for X, y in test_loader:\n",
    "    pred = model(X)\n",
    "    loss = F.cross_entropy(pred, y)\n",
    "    test_loss += loss.item()\n",
    "    \n",
    "test_loss /= len(test_loader)\n",
    "print(f'{test_loss=}')"
   ]
  },
  {
   "cell_type": "code",
   "execution_count": 45,
   "id": "f29958fd",
   "metadata": {},
   "outputs": [
    {
     "name": "stdout",
     "output_type": "stream",
     "text": [
      "kynnale.\n",
      "obagann.\n",
      "evanne.\n",
      "jatetton.\n",
      "adiliah.\n",
      "kiyaen.\n",
      "nalar.\n",
      "khfi.\n",
      "keilei.\n",
      "awyana.\n"
     ]
    }
   ],
   "source": [
    "# Predict with model\n",
    "generator = torch.Generator().manual_seed(1337)\n",
    "\n",
    "# Generate names from bigram distribution\n",
    "for _ in range(10):\n",
    "    out = []\n",
    "    block = [0] * BLOCK_SIZE\n",
    "    while True:\n",
    "        pred = model(torch.tensor(block))\n",
    "        probs = F.softmax(pred, dim=1)\n",
    "        s = torch.multinomial(probs, num_samples=1, replacement=True, generator=generator).item()\n",
    "        out.append(s)\n",
    "        block = block[1:] + [s]\n",
    "        if s == 0:\n",
    "            break\n",
    "    print(''.join(itos[c] for c in out))"
   ]
  },
  {
   "cell_type": "code",
   "execution_count": 192,
   "id": "2aa242b7",
   "metadata": {},
   "outputs": [
    {
     "data": {
      "text/plain": [
       "(array([ 122.,  134.,  161.,  215.,  263.,  254.,  335.,  377.,  396.,\n",
       "         460.,  496.,  592.,  592.,  719.,  721.,  810.,  806.,  894.,\n",
       "         972.,  929., 1030., 1065., 1110., 1048., 1148., 1123., 1123.,\n",
       "        1139., 1096., 1037.,  972.,  989.,  874.,  831.,  755.,  714.,\n",
       "         650.,  595.,  554.,  504.,  489.,  406.,  338.,  330.,  277.,\n",
       "         247.,  206.,  179.,  148.,  150.]),\n",
       " array([-10.        ,  -9.60000038,  -9.19999981,  -8.80000019,\n",
       "         -8.39999962,  -8.        ,  -7.5999999 ,  -7.19999981,\n",
       "         -6.80000019,  -6.4000001 ,  -6.        ,  -5.5999999 ,\n",
       "         -5.19999981,  -4.80000019,  -4.4000001 ,  -4.        ,\n",
       "         -3.5999999 ,  -3.20000005,  -2.79999995,  -2.4000001 ,\n",
       "         -2.        ,  -1.60000002,  -1.20000005,  -0.80000001,\n",
       "         -0.40000001,   0.        ,   0.40000001,   0.80000001,\n",
       "          1.20000005,   1.60000002,   2.        ,   2.4000001 ,\n",
       "          2.79999995,   3.20000005,   3.5999999 ,   4.        ,\n",
       "          4.4000001 ,   4.80000019,   5.19999981,   5.5999999 ,\n",
       "          6.        ,   6.4000001 ,   6.80000019,   7.19999981,\n",
       "          7.5999999 ,   8.        ,   8.39999962,   8.80000019,\n",
       "          9.19999981,   9.60000038,  10.        ]),\n",
       " <BarContainer object of 50 artists>)"
      ]
     },
     "execution_count": 192,
     "metadata": {},
     "output_type": "execute_result"
    },
    {
     "data": {
      "image/png": "[encoded data removed]",
      "text/plain": [
       "<Figure size 640x480 with 1 Axes>"
      ]
     },
     "metadata": {},
     "output_type": "display_data"
    }
   ],
   "source": [
    "plt.hist(model.fc2.weight.flatten().detach().numpy(), 50, range=(-10,10))"
   ]
  },
  {
   "cell_type": "code",
   "execution_count": 46,
   "id": "9af10e8e",
   "metadata": {},
   "outputs": [
    {
     "data": {
      "image/png": "[encoded data removed]",
      "text/plain": [
       "<Figure size 640x480 with 2 Axes>"
      ]
     },
     "metadata": {},
     "output_type": "display_data"
    }
   ],
   "source": [
    "similarities = np.zeros((27, 27))\n",
    "for c1 in range(27):\n",
    "    for c2 in range(27):\n",
    "        similarities[c1, c2] = F.relu(F.cosine_similarity(model.embedding.weight[c1], model.embedding.weight[c2], dim=0)).item()\n",
    "        \n",
    "fig, ax = plt.subplots()\n",
    "\n",
    "plt.imshow(similarities)\n",
    "\n",
    "ax.xaxis.tick_top()\n",
    "ax.set_xticks(range(len(itos)))\n",
    "ax.set_xticklabels(list(itos.values()))\n",
    "\n",
    "ax.set_yticks(range(len(itos)))\n",
    "ax.set_yticklabels(list(itos.values()))\n",
    "\n",
    "fig.colorbar(cm.ScalarMappable(), ax=ax)\n",
    "\n",
    "plt.show()"
   ]
  },
  {
   "cell_type": "code",
   "execution_count": null,
   "id": "fb84f7b3",
   "metadata": {},
   "outputs": [],
   "source": []
  }
 ],
 "metadata": {
  "kernelspec": {
   "display_name": "Python 3 (ipykernel)",
   "language": "python",
   "name": "python3"
  },
  "language_info": {
   "codemirror_mode": {
    "name": "ipython",
    "version": 3
   },
   "file_extension": ".py",
   "mimetype": "text/x-python",
   "name": "python",
   "nbconvert_exporter": "python",
   "pygments_lexer": "ipython3",
   "version": "3.9.13"
  }
 },
 "nbformat": 4,
 "nbformat_minor": 5
}
